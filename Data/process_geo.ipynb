{
 "cells": [
  {
   "cell_type": "code",
   "execution_count": 49,
   "metadata": {},
   "outputs": [],
   "source": [
    "import json \n",
    "import pandas as pd\n",
    "#import state to postal dictionary\n",
    "from us_state_abbrev import us_state_to_abbrev as abbrev"
   ]
  },
  {
   "cell_type": "code",
   "execution_count": 50,
   "metadata": {},
   "outputs": [],
   "source": [
    "#load local geoJSON data\n",
    "with open('us-states.json') as data:\n",
    "    state_data = json.load(data)\n",
    "\n",
    "#load census population info\n",
    "state_pop_df=pd.read_csv('output_csv/STATE_POP.csv')\n"
   ]
  },
  {
   "cell_type": "code",
   "execution_count": 39,
   "metadata": {},
   "outputs": [
    {
     "data": {
      "text/html": [
       "<div>\n",
       "<style scoped>\n",
       "    .dataframe tbody tr th:only-of-type {\n",
       "        vertical-align: middle;\n",
       "    }\n",
       "\n",
       "    .dataframe tbody tr th {\n",
       "        vertical-align: top;\n",
       "    }\n",
       "\n",
       "    .dataframe thead th {\n",
       "        text-align: right;\n",
       "    }\n",
       "</style>\n",
       "<table border=\"1\" class=\"dataframe\">\n",
       "  <thead>\n",
       "    <tr style=\"text-align: right;\">\n",
       "      <th></th>\n",
       "      <th>NAME</th>\n",
       "      <th>POP_2021</th>\n",
       "    </tr>\n",
       "  </thead>\n",
       "  <tbody>\n",
       "    <tr>\n",
       "      <th>0</th>\n",
       "      <td>OK</td>\n",
       "      <td>3986639</td>\n",
       "    </tr>\n",
       "    <tr>\n",
       "      <th>1</th>\n",
       "      <td>NE</td>\n",
       "      <td>1963692</td>\n",
       "    </tr>\n",
       "    <tr>\n",
       "      <th>2</th>\n",
       "      <td>HI</td>\n",
       "      <td>1441553</td>\n",
       "    </tr>\n",
       "    <tr>\n",
       "      <th>3</th>\n",
       "      <td>SD</td>\n",
       "      <td>895376</td>\n",
       "    </tr>\n",
       "    <tr>\n",
       "      <th>4</th>\n",
       "      <td>TN</td>\n",
       "      <td>6975218</td>\n",
       "    </tr>\n",
       "  </tbody>\n",
       "</table>\n",
       "</div>"
      ],
      "text/plain": [
       "  NAME  POP_2021\n",
       "0   OK   3986639\n",
       "1   NE   1963692\n",
       "2   HI   1441553\n",
       "3   SD    895376\n",
       "4   TN   6975218"
      ]
     },
     "execution_count": 39,
     "metadata": {},
     "output_type": "execute_result"
    }
   ],
   "source": [
    "state_pop_df.head()\n"
   ]
  },
  {
   "cell_type": "code",
   "execution_count": 51,
   "metadata": {},
   "outputs": [],
   "source": [
    "#set index for easier use\n",
    "state_pop_df.set_index('NAME', inplace=True)\n",
    "#convert to dictionary to access info\n",
    "state_pop_dict=state_pop_df.to_dict()\n",
    "#remove root key\n",
    "state_pop_dict=state_pop_dict['POP_2021']"
   ]
  },
  {
   "cell_type": "code",
   "execution_count": 41,
   "metadata": {},
   "outputs": [
    {
     "data": {
      "text/plain": [
       "{'OK': 3986639,\n",
       " 'NE': 1963692,\n",
       " 'HI': 1441553,\n",
       " 'SD': 895376,\n",
       " 'TN': 6975218,\n",
       " 'NV': 3143991,\n",
       " 'NM': 2115877,\n",
       " 'IA': 3193079,\n",
       " 'KS': 2934582,\n",
       " 'DC': 670050,\n",
       " 'TX': 29527941,\n",
       " 'MO': 6168187,\n",
       " 'AR': 3025891,\n",
       " 'MI': 10050811,\n",
       " 'NH': 1388992,\n",
       " 'NC': 10551162,\n",
       " 'OH': 11780017,\n",
       " 'SC': 5190705,\n",
       " 'WY': 578803,\n",
       " 'CA': 39237836,\n",
       " 'ND': 774948,\n",
       " 'LA': 4624047,\n",
       " 'MD': 6165129,\n",
       " 'DE': 1003384,\n",
       " 'PA': 12964056,\n",
       " 'GA': 10799566,\n",
       " 'OR': 4246155,\n",
       " 'MN': 5707390,\n",
       " 'CO': 5812069,\n",
       " 'NJ': 9267130,\n",
       " 'KY': 4509394,\n",
       " 'WA': 7738692,\n",
       " 'ME': 1372247,\n",
       " 'VT': 645570,\n",
       " 'ID': 1900923,\n",
       " 'IN': 6805985,\n",
       " 'MT': 1104271,\n",
       " 'NY': 19835913,\n",
       " 'PR': 3263584,\n",
       " 'CT': 3605597,\n",
       " 'FL': 21781128,\n",
       " 'VA': 8642274,\n",
       " 'MA': 6984723,\n",
       " 'IL': 12671469,\n",
       " 'MS': 2949965,\n",
       " 'AZ': 7276316,\n",
       " 'UT': 3337975,\n",
       " 'WI': 5895908,\n",
       " 'AL': 5039877,\n",
       " 'WV': 1782959,\n",
       " 'RI': 1095610,\n",
       " 'AK': 732673}"
      ]
     },
     "execution_count": 41,
     "metadata": {},
     "output_type": "execute_result"
    }
   ],
   "source": [
    "state_pop_dict"
   ]
  },
  {
   "cell_type": "code",
   "execution_count": 52,
   "metadata": {},
   "outputs": [],
   "source": [
    "#isolate features\n",
    "features=state_data[\"features\"]"
   ]
  },
  {
   "cell_type": "code",
   "execution_count": 53,
   "metadata": {},
   "outputs": [],
   "source": [
    "#loop through the features\n",
    "geo_df=pd.DataFrame(columns=['State', 'Population', 'Geometry'])\n",
    "for feature in features:\n",
    "    state_abbrev=\"\"\n",
    "    population=\"\"\n",
    "    geometry=\"\"\n",
    "    #isolate properties of each feature\n",
    "    properties=feature[\"properties\"]\n",
    "    #get state names with postal abbreviations to match ufo data\n",
    "    state_abbrev=abbrev[properties['name']]\n",
    "    #use the postal ids to find the population\n",
    "    population=state_pop_dict[state_abbrev]\n",
    "    #simply copy the existing geometry\n",
    "    geometry=feature['geometry']\n",
    "    #append to dataframe\n",
    "    geo_df.loc[len(geo_df.index)] = [state_abbrev,population,geometry]"
   ]
  },
  {
   "cell_type": "code",
   "execution_count": 46,
   "metadata": {},
   "outputs": [
    {
     "data": {
      "text/plain": [
       "{'type': 'Polygon',\n",
       " 'coordinates': [[[-87.359296, 35.00118],\n",
       "   [-85.606675, 34.984749],\n",
       "   [-85.431413, 34.124869],\n",
       "   [-85.184951, 32.859696],\n",
       "   [-85.069935, 32.580372],\n",
       "   [-84.960397, 32.421541],\n",
       "   [-85.004212, 32.322956],\n",
       "   [-84.889196, 32.262709],\n",
       "   [-85.058981, 32.13674],\n",
       "   [-85.053504, 32.01077],\n",
       "   [-85.141136, 31.840985],\n",
       "   [-85.042551, 31.539753],\n",
       "   [-85.113751, 31.27686],\n",
       "   [-85.004212, 31.003013],\n",
       "   [-85.497137, 30.997536],\n",
       "   [-87.600282, 30.997536],\n",
       "   [-87.633143, 30.86609],\n",
       "   [-87.408589, 30.674397],\n",
       "   [-87.446927, 30.510088],\n",
       "   [-87.37025, 30.427934],\n",
       "   [-87.518128, 30.280057],\n",
       "   [-87.655051, 30.247195],\n",
       "   [-87.90699, 30.411504],\n",
       "   [-87.934375, 30.657966],\n",
       "   [-88.011052, 30.685351],\n",
       "   [-88.10416, 30.499135],\n",
       "   [-88.137022, 30.318396],\n",
       "   [-88.394438, 30.367688],\n",
       "   [-88.471115, 31.895754],\n",
       "   [-88.241084, 33.796253],\n",
       "   [-88.098683, 34.891641],\n",
       "   [-88.202745, 34.995703],\n",
       "   [-87.359296, 35.00118]]]}"
      ]
     },
     "execution_count": 46,
     "metadata": {},
     "output_type": "execute_result"
    }
   ],
   "source": [
    "features[0][\"geometry\"]"
   ]
  },
  {
   "cell_type": "code",
   "execution_count": 57,
   "metadata": {},
   "outputs": [],
   "source": [
    "geo_df.to_csv(f\"output_csv/GEOMETRY.csv\",index=False)\n",
    "\n"
   ]
  }
 ],
 "metadata": {
  "kernelspec": {
   "display_name": "base",
   "language": "python",
   "name": "python3"
  },
  "language_info": {
   "codemirror_mode": {
    "name": "ipython",
    "version": 3
   },
   "file_extension": ".py",
   "mimetype": "text/x-python",
   "name": "python",
   "nbconvert_exporter": "python",
   "pygments_lexer": "ipython3",
   "version": "3.9.16"
  },
  "orig_nbformat": 4
 },
 "nbformat": 4,
 "nbformat_minor": 2
}
