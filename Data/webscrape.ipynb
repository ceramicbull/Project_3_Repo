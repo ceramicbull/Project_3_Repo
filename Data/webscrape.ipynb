{
 "cells": [
  {
   "cell_type": "code",
   "execution_count": 60,
   "metadata": {},
   "outputs": [],
   "source": [
    "#dependencies\n",
    "import pandas as pd\n",
    "import datetime as dt\n",
    "import requests \n",
    "import time\n",
    "from splinter import Browser\n",
    "from bs4 import BeautifulSoup as soup\n",
    "from webdriver_manager.chrome import ChromeDriverManager\n"
   ]
  },
  {
   "cell_type": "code",
   "execution_count": 61,
   "metadata": {},
   "outputs": [],
   "source": [
    "#start with list of tables\n",
    "url=\"https://nuforc.org/webreports/ndxloc.html\""
   ]
  },
  {
   "cell_type": "code",
   "execution_count": 62,
   "metadata": {},
   "outputs": [],
   "source": [
    "#load browser\n",
    "browser = Browser('chrome', executable_path=ChromeDriverManager().install())"
   ]
  },
  {
   "cell_type": "code",
   "execution_count": 63,
   "metadata": {},
   "outputs": [],
   "source": [
    "browser.visit(url)"
   ]
  },
  {
   "cell_type": "code",
   "execution_count": 64,
   "metadata": {},
   "outputs": [],
   "source": [
    "#start souping\n",
    "\n",
    "html = browser.html\n",
    "_soup= soup(html, 'html.parser')"
   ]
  },
  {
   "cell_type": "code",
   "execution_count": 65,
   "metadata": {},
   "outputs": [
    {
     "name": "stdout",
     "output_type": "stream",
     "text": [
      "[<a href=\"ndxlAL.html\">ALABAMA</a>, <a href=\"ndxlAK.html\">ALASKA</a>, <a href=\"ndxlAZ.html\">ARIZONA</a>, <a href=\"ndxlAR.html\">ARKANSAS</a>, <a href=\"ndxlCA.html\">CALIFORNIA</a>, <a href=\"ndxlCO.html\">COLORADO</a>, <a href=\"ndxlCT.html\">CONNECTICUT</a>, <a href=\"ndxlDE.html\">DELAWARE</a>, <a href=\"ndxlDC.html\">DISTRICT OF COLUMBIA</a>, <a href=\"ndxlFL.html\">FLORIDA</a>, <a href=\"ndxlGA.html\">GEORGIA</a>, <a href=\"ndxlHI.html\">HAWAII</a>, <a href=\"ndxlID.html\">IDAHO</a>, <a href=\"ndxlIL.html\">ILLINOIS</a>, <a href=\"ndxlIN.html\">INDIANA</a>, <a href=\"ndxlIA.html\">IOWA</a>, <a href=\"ndxlKS.html\">KANSAS</a>, <a href=\"ndxlKY.html\">KENTUCKY</a>, <a href=\"ndxlLA.html\">LOUISIANA</a>, <a href=\"ndxlME.html\">MAINE</a>, <a href=\"ndxlMD.html\">MARYLAND</a>, <a href=\"ndxlMA.html\">MASSACHUSETTS</a>, <a href=\"ndxlMI.html\">MICHIGAN</a>, <a href=\"ndxlMN.html\">MINNESOTA</a>, <a href=\"ndxlMS.html\">MISSISSIPPI</a>, <a href=\"ndxlMO.html\">MISSOURI</a>, <a href=\"ndxlMT.html\">MONTANA</a>, <a href=\"ndxlNE.html\">NEBRASKA</a>, <a href=\"ndxlNV.html\">NEVADA</a>, <a href=\"ndxlNH.html\">NEW HAMPSHIRE</a>, <a href=\"ndxlNJ.html\">NEW JERSEY</a>, <a href=\"ndxlNM.html\">NEW MEXICO</a>, <a href=\"ndxlNY.html\">NEW YORK</a>, <a href=\"ndxlNC.html\">NORTH CAROLINA</a>, <a href=\"ndxlND.html\">NORTH DAKOTA</a>, <a href=\"ndxlOH.html\">OHIO</a>, <a href=\"ndxlOK.html\">OKLAHOMA</a>, <a href=\"ndxlOR.html\">OREGON</a>, <a href=\"ndxlPA.html\">PENNSYLVANIA</a>, <a href=\"ndxlRI.html\">RHODE ISLAND</a>, <a href=\"ndxlSC.html\">SOUTH CAROLINA</a>, <a href=\"ndxlSD.html\">SOUTH DAKOTA</a>, <a href=\"ndxlTN.html\">TENNESSEE</a>, <a href=\"ndxlTX.html\">TEXAS</a>, <a href=\"ndxlUT.html\">UTAH</a>, <a href=\"ndxlVT.html\">VERMONT</a>, <a href=\"ndxlVA.html\">VIRGINIA</a>, <a href=\"ndxlWA.html\">WASHINGTON</a>, <a href=\"ndxlWV.html\">WEST VIRGINIA</a>, <a href=\"ndxlWI.html\">WISCONSIN</a>, <a href=\"ndxlWY.html\">WYOMING</a>, <a href=\"ndxlINTERNATIONAL.html\">INTERNATIONAL</a>, <a href=\"ndxlAB.html\">ALBERTA</a>, <a href=\"ndxlBC.html\">BRITISH COLUMBIA</a>, <a href=\"ndxlMB.html\">MANITOBA</a>, <a href=\"ndxlNB.html\">NEW BRUNSWICK</a>, <a href=\"ndxlNF.html\">NEWFOUNDLAND</a>, <a href=\"ndxlNF.html\">NEWFOUNDLAND AND LABRADOR</a>, <a href=\"ndxlNT.html\">NORTHWEST TERRITORY</a>, <a href=\"ndxlNS.html\">NOVA SCOTIA</a>, <a href=\"ndxlON.html\">ONTARIO</a>, <a href=\"ndxlPE.html\">PRINCE EDW ISLAND</a>, <a href=\"ndxlPQ.html\">PROV OF QUE</a>, <a href=\"ndxlSA.html\">SASKATCHEWAN</a>, <a href=\"ndxlYK.html\">YUKON</a>]\n"
     ]
    }
   ],
   "source": [
    "#drill down to list of state tables\n",
    "table=_soup.find('tbody')\n",
    "#list of tables\n",
    "links=table.find_all('a')\n",
    "print(links)"
   ]
  },
  {
   "cell_type": "code",
   "execution_count": 69,
   "metadata": {},
   "outputs": [
    {
     "data": {
      "text/html": [
       "<div>\n",
       "<style scoped>\n",
       "    .dataframe tbody tr th:only-of-type {\n",
       "        vertical-align: middle;\n",
       "    }\n",
       "\n",
       "    .dataframe tbody tr th {\n",
       "        vertical-align: top;\n",
       "    }\n",
       "\n",
       "    .dataframe thead th {\n",
       "        text-align: right;\n",
       "    }\n",
       "</style>\n",
       "<table border=\"1\" class=\"dataframe\">\n",
       "  <thead>\n",
       "    <tr style=\"text-align: right;\">\n",
       "      <th></th>\n",
       "      <th>Date / Time</th>\n",
       "      <th>City</th>\n",
       "      <th>State</th>\n",
       "      <th>Shape</th>\n",
       "      <th>Duration</th>\n",
       "      <th>Summary</th>\n",
       "      <th>Link to Event</th>\n",
       "    </tr>\n",
       "  </thead>\n",
       "  <tbody>\n",
       "    <tr>\n",
       "      <th>0</th>\n",
       "      <td>2023-05-14 21:55:00</td>\n",
       "      <td>Deer Park</td>\n",
       "      <td>AL</td>\n",
       "      <td>Circle</td>\n",
       "      <td>About 30 mins</td>\n",
       "      <td>Flashing circle/ fire colored/ torpedo</td>\n",
       "      <td>https://nuforc.org/webreports/reports/175/S175...</td>\n",
       "    </tr>\n",
       "    <tr>\n",
       "      <th>1</th>\n",
       "      <td>2023-05-14 20:40:00</td>\n",
       "      <td>Athens</td>\n",
       "      <td>AL</td>\n",
       "      <td>Circle</td>\n",
       "      <td>About 2 seconds</td>\n",
       "      <td>Huge yellow-white sphere 5 times the size of t...</td>\n",
       "      <td>https://nuforc.org/webreports/reports/175/S175...</td>\n",
       "    </tr>\n",
       "    <tr>\n",
       "      <th>2</th>\n",
       "      <td>2023-05-13 21:30:00</td>\n",
       "      <td>Pike Road</td>\n",
       "      <td>AL</td>\n",
       "      <td>Circle</td>\n",
       "      <td>Hours</td>\n",
       "      <td>Tatyana Bakieva</td>\n",
       "      <td>https://nuforc.org/webreports/reports/175/S175...</td>\n",
       "    </tr>\n",
       "    <tr>\n",
       "      <th>3</th>\n",
       "      <td>2023-05-02 04:46:00</td>\n",
       "      <td>Falkville</td>\n",
       "      <td>AL</td>\n",
       "      <td>Light</td>\n",
       "      <td>About 10 minutes</td>\n",
       "      <td>Lights that traveled across the sky faster tha...</td>\n",
       "      <td>https://nuforc.org/webreports/reports/175/S175...</td>\n",
       "    </tr>\n",
       "    <tr>\n",
       "      <th>4</th>\n",
       "      <td>2023-05-01 03:32:00</td>\n",
       "      <td>Grand Bay</td>\n",
       "      <td>AL</td>\n",
       "      <td>Sphere</td>\n",
       "      <td>Five to ten minutes</td>\n",
       "      <td>Was looking at stars in the Northern sky and s...</td>\n",
       "      <td>https://nuforc.org/webreports/reports/175/S175...</td>\n",
       "    </tr>\n",
       "  </tbody>\n",
       "</table>\n",
       "</div>"
      ],
      "text/plain": [
       "          Date / Time       City State   Shape             Duration  \\\n",
       "0 2023-05-14 21:55:00  Deer Park    AL  Circle        About 30 mins   \n",
       "1 2023-05-14 20:40:00     Athens    AL  Circle      About 2 seconds   \n",
       "2 2023-05-13 21:30:00  Pike Road    AL  Circle                Hours   \n",
       "3 2023-05-02 04:46:00  Falkville    AL   Light     About 10 minutes   \n",
       "4 2023-05-01 03:32:00  Grand Bay    AL  Sphere  Five to ten minutes   \n",
       "\n",
       "                                             Summary  \\\n",
       "0             Flashing circle/ fire colored/ torpedo   \n",
       "1  Huge yellow-white sphere 5 times the size of t...   \n",
       "2                                    Tatyana Bakieva   \n",
       "3  Lights that traveled across the sky faster tha...   \n",
       "4  Was looking at stars in the Northern sky and s...   \n",
       "\n",
       "                                       Link to Event  \n",
       "0  https://nuforc.org/webreports/reports/175/S175...  \n",
       "1  https://nuforc.org/webreports/reports/175/S175...  \n",
       "2  https://nuforc.org/webreports/reports/175/S175...  \n",
       "3  https://nuforc.org/webreports/reports/175/S175...  \n",
       "4  https://nuforc.org/webreports/reports/175/S175...  "
      ]
     },
     "execution_count": 69,
     "metadata": {},
     "output_type": "execute_result"
    }
   ],
   "source": [
    "#Debug Cell\n",
    "demo_df=pd.DataFrame(columns=['Date/Time','City','State','Shape','Duration','Summary','Link to Event'])\n",
    "#demo_df['Date / Time']=pd.to_datetime(demo_df['Date / Time'],errors='coerce')\n",
    "page=links[0].get('href')\n",
    "state=links[0].text\n",
    "table_url=f'https://nuforc.org/webreports/{page}'\n",
    "df=pd.read_html(table_url)[0]\n",
    "clean_df=df.drop(columns=['Country','Posted','Images'])\n",
    "clean_df.head()\n",
    "browser.visit(table_url)\n",
    "tab_html = browser.html\n",
    "tab_soup= soup(tab_html, 'html.parser')\n",
    "tab_tab=tab_soup.find('tbody')\n",
    "tab_link=tab_tab.find_all('a')\n",
    "link_list=[]\n",
    "for link in tab_link:\n",
    "    href=link.get('href')\n",
    "    href_url=f'https://nuforc.org/webreports/{href}'\n",
    "    link_list.append(href_url)\n",
    "clean_df['Link to Event']=link_list\n",
    "clean_df['Date / Time']=pd.to_datetime(clean_df['Date / Time'],errors='coerce')\n",
    "filter_df=clean_df.loc[clean_df['Date / Time']>=\"2013-1-1\"]\n",
    "filter_df.dtypes\n",
    "\n",
    "\n",
    "#df.to_csv(f\"output_csv/{state}.csv\")"
   ]
  },
  {
   "cell_type": "code",
   "execution_count": 70,
   "metadata": {},
   "outputs": [
    {
     "data": {
      "text/plain": [
       "Date / Time      datetime64[ns]\n",
       "City                     object\n",
       "State                    object\n",
       "Shape                    object\n",
       "Duration                 object\n",
       "Summary                  object\n",
       "Link to Event            object\n",
       "dtype: object"
      ]
     },
     "execution_count": 70,
     "metadata": {},
     "output_type": "execute_result"
    }
   ],
   "source": [
    "#Debug Cell 2\n",
    "filter_df.dtypes"
   ]
  },
  {
   "cell_type": "code",
   "execution_count": 20,
   "metadata": {},
   "outputs": [],
   "source": [
    "\n",
    "for link in links:\n",
    "    page=link.get('href')\n",
    "    state=link.text\n",
    "    table_url=f'https://nuforc.org/webreports/{page}'\n",
    "    df=pd.read_html(table_url)[0]\n",
    "    clean_df=df.drop(columns=['Country','Posted','Images'])\n",
    "    df.to_csv(f\"output_csv/{state}.csv\")\n",
    "    \n",
    "    time.sleep(.1) \n",
    "    \n",
    "\n",
    "\n",
    "\n"
   ]
  }
 ],
 "metadata": {
  "kernelspec": {
   "display_name": "base",
   "language": "python",
   "name": "python3"
  },
  "language_info": {
   "codemirror_mode": {
    "name": "ipython",
    "version": 3
   },
   "file_extension": ".py",
   "mimetype": "text/x-python",
   "name": "python",
   "nbconvert_exporter": "python",
   "pygments_lexer": "ipython3",
   "version": "3.9.13"
  },
  "orig_nbformat": 4
 },
 "nbformat": 4,
 "nbformat_minor": 2
}
