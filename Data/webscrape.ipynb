{
 "cells": [
  {
   "cell_type": "code",
   "execution_count": 18,
   "metadata": {},
   "outputs": [],
   "source": [
    "#dependencies\n",
    "import pandas as pd\n",
    "import requests \n",
    "import time\n",
    "from splinter import Browser\n",
    "from bs4 import BeautifulSoup as soup\n",
    "from webdriver_manager.chrome import ChromeDriverManager\n"
   ]
  },
  {
   "cell_type": "code",
   "execution_count": 2,
   "metadata": {},
   "outputs": [],
   "source": [
    "#start with list of tables\n",
    "url=\"https://nuforc.org/webreports/ndxloc.html\""
   ]
  },
  {
   "cell_type": "code",
   "execution_count": 3,
   "metadata": {},
   "outputs": [],
   "source": [
    "#load browser\n",
    "browser = Browser('chrome', executable_path=ChromeDriverManager().install())"
   ]
  },
  {
   "cell_type": "code",
   "execution_count": 4,
   "metadata": {},
   "outputs": [],
   "source": [
    "browser.visit(url)"
   ]
  },
  {
   "cell_type": "code",
   "execution_count": 5,
   "metadata": {},
   "outputs": [],
   "source": [
    "#start souping\n",
    "\n",
    "html = browser.html\n",
    "soup= soup(html, 'html.parser')"
   ]
  },
  {
   "cell_type": "code",
   "execution_count": 6,
   "metadata": {},
   "outputs": [
    {
     "name": "stdout",
     "output_type": "stream",
     "text": [
      "[<a href=\"ndxlAL.html\">ALABAMA</a>, <a href=\"ndxlAK.html\">ALASKA</a>, <a href=\"ndxlAZ.html\">ARIZONA</a>, <a href=\"ndxlAR.html\">ARKANSAS</a>, <a href=\"ndxlCA.html\">CALIFORNIA</a>, <a href=\"ndxlCO.html\">COLORADO</a>, <a href=\"ndxlCT.html\">CONNECTICUT</a>, <a href=\"ndxlDE.html\">DELAWARE</a>, <a href=\"ndxlDC.html\">DISTRICT OF COLUMBIA</a>, <a href=\"ndxlFL.html\">FLORIDA</a>, <a href=\"ndxlGA.html\">GEORGIA</a>, <a href=\"ndxlHI.html\">HAWAII</a>, <a href=\"ndxlID.html\">IDAHO</a>, <a href=\"ndxlIL.html\">ILLINOIS</a>, <a href=\"ndxlIN.html\">INDIANA</a>, <a href=\"ndxlIA.html\">IOWA</a>, <a href=\"ndxlKS.html\">KANSAS</a>, <a href=\"ndxlKY.html\">KENTUCKY</a>, <a href=\"ndxlLA.html\">LOUISIANA</a>, <a href=\"ndxlME.html\">MAINE</a>, <a href=\"ndxlMD.html\">MARYLAND</a>, <a href=\"ndxlMA.html\">MASSACHUSETTS</a>, <a href=\"ndxlMI.html\">MICHIGAN</a>, <a href=\"ndxlMN.html\">MINNESOTA</a>, <a href=\"ndxlMS.html\">MISSISSIPPI</a>, <a href=\"ndxlMO.html\">MISSOURI</a>, <a href=\"ndxlMT.html\">MONTANA</a>, <a href=\"ndxlNE.html\">NEBRASKA</a>, <a href=\"ndxlNV.html\">NEVADA</a>, <a href=\"ndxlNH.html\">NEW HAMPSHIRE</a>, <a href=\"ndxlNJ.html\">NEW JERSEY</a>, <a href=\"ndxlNM.html\">NEW MEXICO</a>, <a href=\"ndxlNY.html\">NEW YORK</a>, <a href=\"ndxlNC.html\">NORTH CAROLINA</a>, <a href=\"ndxlND.html\">NORTH DAKOTA</a>, <a href=\"ndxlOH.html\">OHIO</a>, <a href=\"ndxlOK.html\">OKLAHOMA</a>, <a href=\"ndxlOR.html\">OREGON</a>, <a href=\"ndxlPA.html\">PENNSYLVANIA</a>, <a href=\"ndxlRI.html\">RHODE ISLAND</a>, <a href=\"ndxlSC.html\">SOUTH CAROLINA</a>, <a href=\"ndxlSD.html\">SOUTH DAKOTA</a>, <a href=\"ndxlTN.html\">TENNESSEE</a>, <a href=\"ndxlTX.html\">TEXAS</a>, <a href=\"ndxlUT.html\">UTAH</a>, <a href=\"ndxlVT.html\">VERMONT</a>, <a href=\"ndxlVA.html\">VIRGINIA</a>, <a href=\"ndxlWA.html\">WASHINGTON</a>, <a href=\"ndxlWV.html\">WEST VIRGINIA</a>, <a href=\"ndxlWI.html\">WISCONSIN</a>, <a href=\"ndxlWY.html\">WYOMING</a>, <a href=\"ndxlINTERNATIONAL.html\">INTERNATIONAL</a>, <a href=\"ndxlAB.html\">ALBERTA</a>, <a href=\"ndxlBC.html\">BRITISH COLUMBIA</a>, <a href=\"ndxlMB.html\">MANITOBA</a>, <a href=\"ndxlNB.html\">NEW BRUNSWICK</a>, <a href=\"ndxlNF.html\">NEWFOUNDLAND</a>, <a href=\"ndxlNF.html\">NEWFOUNDLAND AND LABRADOR</a>, <a href=\"ndxlNT.html\">NORTHWEST TERRITORY</a>, <a href=\"ndxlNS.html\">NOVA SCOTIA</a>, <a href=\"ndxlON.html\">ONTARIO</a>, <a href=\"ndxlPE.html\">PRINCE EDW ISLAND</a>, <a href=\"ndxlPQ.html\">PROV OF QUE</a>, <a href=\"ndxlSA.html\">SASKATCHEWAN</a>, <a href=\"ndxlYK.html\">YUKON</a>]\n"
     ]
    }
   ],
   "source": [
    "#drill down to list of state tables\n",
    "table=soup.find('tbody')\n",
    "#list of tables\n",
    "links=table.find_all('a')\n",
    "print(links)"
   ]
  },
  {
   "cell_type": "code",
   "execution_count": 15,
   "metadata": {},
   "outputs": [],
   "source": [
    "page=links[0].get('href')\n",
    "state=links[0].text\n",
    "table_url=f'https://nuforc.org/webreports/{page}'\n",
    "df=pd.read_html(f'https://nuforc.org/webreports/{page}')[0]\n",
    "df.head()\n",
    "df.to_csv(f\"output_csv/{state}.csv\")"
   ]
  },
  {
   "cell_type": "code",
   "execution_count": 20,
   "metadata": {},
   "outputs": [],
   "source": [
    "for link in links:\n",
    "    page=link.get('href')\n",
    "    state=link.text\n",
    "    df=pd.read_html(f'https://nuforc.org/webreports/{page}')[0]\n",
    "    df.head\n",
    "    df.to_csv(f\"output_csv/{state}.csv\")\n",
    "    time.sleep(.1) \n",
    "    \n",
    "\n",
    "\n",
    "\n"
   ]
  }
 ],
 "metadata": {
  "kernelspec": {
   "display_name": "base",
   "language": "python",
   "name": "python3"
  },
  "language_info": {
   "codemirror_mode": {
    "name": "ipython",
    "version": 3
   },
   "file_extension": ".py",
   "mimetype": "text/x-python",
   "name": "python",
   "nbconvert_exporter": "python",
   "pygments_lexer": "ipython3",
   "version": "3.9.13"
  },
  "orig_nbformat": 4
 },
 "nbformat": 4,
 "nbformat_minor": 2
}
